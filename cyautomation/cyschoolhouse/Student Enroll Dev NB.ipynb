{
 "cells": [
  {
   "cell_type": "code",
   "execution_count": 14,
   "metadata": {},
   "outputs": [],
   "source": [
    "from time import sleep\n",
    "import cyschoolhousesuite as cysh\n",
    "from pandas import read_excel\n",
    "\n",
    "from selenium.webdriver.common.keys import Keys\n",
    "from selenium.webdriver.common.by import By\n",
    "from selenium.webdriver.support.ui import WebDriverWait, Select\n",
    "from selenium.webdriver.support import expected_conditions as EC"
   ]
  },
  {
   "cell_type": "code",
   "execution_count": 31,
   "metadata": {},
   "outputs": [],
   "source": [
    "def search_for_section(driver, sec_num):\n",
    "    driver.find_element_by_class_name(\"searchTextBox\").clear()\n",
    "    driver.find_element_by_class_name(\"searchTextBox\").send_keys(sec_num)\n",
    "    driver.find_element_by_name(\"search\").click()\n",
    "    WebDriverWait(driver, 10).until(EC.presence_of_element_located((By.NAME, \"section_intervention_data\")))\n",
    "    driver.find_element_by_name(\"section_intervention_data\").click()\n",
    "\n",
    "def enrollment_window(driver):\n",
    "    sleep(1)\n",
    "    driver.switch_to_window(driver.window_handles[1])\n",
    "    WebDriverWait(driver, 10).until(EC.presence_of_element_located((By.ID, \"addButton\")))\n",
    "    driver.find_element_by_id(\"addButton\").click()\n",
    "    WebDriverWait(driver, 10).until(EC.visibility_of_element_located((By.ID, \"j_id0:j_id48:enrollDate\")))\n",
    "    driver.find_element_by_id(\"j_id0:j_id48:enrollDate\").clear()\n",
    "    driver.find_element_by_id(\"j_id0:j_id48:enrollDate\").send_keys('8/14/2017')\n",
    "    \n",
    "def select_student_from_enrollment_table(driver, sfid):\n",
    "    table = driver.find_element_by_xpath(\"//table[@id='availableStudents']/tbody\")\n",
    "    student = table.find_element_by_xpath(\"//tr[contains(@id, '\" + sfid + \"')]\")\n",
    "    student.click()\n",
    "    sleep(2)\n",
    "    \n",
    "def enroll_batch(driver):\n",
    "    driver.find_element_by_xpath(\"//img[@src='/resource/1496397506000/Style_Bundle/images/arrow-right.png']\").click()\n",
    "\n",
    "def update_gl(driver, _grade):\n",
    "    selector = Select(driver.find_element_by_name(\"j_id0:j_id48:j_id103\"))\n",
    "    selector.select_by_visible_text(_grade)\n",
    "    \n",
    "def save_enrollments(driver):    \n",
    "    driver.find_element_by_xpath(\"//input[@value='Save']\").click()\n",
    "    \n",
    "def input_data():\n",
    "    data = read_csv('input_files/section-key.csv')\n",
    "    return data.to_dict(orient='records')\n",
    "\n",
    "def test_script():\n",
    "    inputs = input_data()[1]\n",
    "    driver = cysh.get_driver()\n",
    "    cysh.open_cyschoolhouse18_sb(driver)\n",
    "    search_for_section(driver, 74013)\n",
    "    enrollment_window(driver)\n",
    "    select_student_from_enrollment_table(driver, inputs['Student ID'])\n",
    "    enroll_batch(driver)\n",
    "    #sleep(5)\n",
    "    #driver.quit()"
   ]
  },
  {
   "cell_type": "code",
   "execution_count": 32,
   "metadata": {},
   "outputs": [],
   "source": [
    "def enrollment_script():\n",
    "    data = read_excel('input_files/student-enrollment-records.xlsx')\n",
    "    staff = data['Intervention Primary Staff: Staff Name'].unique()\n",
    "    for _staff in staff:\n",
    "        driver = cysh.get_driver()\n",
    "        cysh.open_cyschoolhouse18(driver)\n",
    "        staff_records = data[data['Intervention Primary Staff: Staff Name'] == _staff]\n",
    "        sections = staff_records['Intervention Section Number'].unique()\n",
    "        for _section in sections:\n",
    "            search_for_section(driver, str(_section))\n",
    "            enrollment_window(driver)\n",
    "            section_records = staff_records[staff_records['Intervention Section Number'] == _section]\n",
    "            relevant_grades = section_records['Grade'].unique()\n",
    "            for _grade in relevant_grades:\n",
    "                update_gl(driver, str(_grade))\n",
    "                sleep(2)\n",
    "                students_in_gl = section_records[section_records.Grade == _grade]\n",
    "                students_to_enroll = students_in_gl['Student ID'].unique()\n",
    "                for _student in students_to_enroll:\n",
    "                    select_student_from_enrollment_table(driver, _student)\n",
    "                enroll_batch(driver)\n",
    "            sleep(2)\n",
    "            driver.close()\n",
    "            driver.switch_to_window(driver.window_handles[0])\n",
    "        driver.quit()"
   ]
  },
  {
   "cell_type": "code",
   "execution_count": 33,
   "metadata": {},
   "outputs": [
    {
     "ename": "TimeoutException",
     "evalue": "Message: \n",
     "output_type": "error",
     "traceback": [
      "\u001b[1;31m---------------------------------------------------------------------------\u001b[0m",
      "\u001b[1;31mTimeoutException\u001b[0m                          Traceback (most recent call last)",
      "\u001b[1;32m<ipython-input-33-9f25c734ca67>\u001b[0m in \u001b[0;36m<module>\u001b[1;34m()\u001b[0m\n\u001b[1;32m----> 1\u001b[1;33m \u001b[0menrollment_script\u001b[0m\u001b[1;33m(\u001b[0m\u001b[1;33m)\u001b[0m\u001b[1;33m\u001b[0m\u001b[0m\n\u001b[0m",
      "\u001b[1;32m<ipython-input-32-00023d5ca2ae>\u001b[0m in \u001b[0;36menrollment_script\u001b[1;34m()\u001b[0m\n\u001b[0;32m      8\u001b[0m         \u001b[0msections\u001b[0m \u001b[1;33m=\u001b[0m \u001b[0mstaff_records\u001b[0m\u001b[1;33m[\u001b[0m\u001b[1;34m'Intervention Section Number'\u001b[0m\u001b[1;33m]\u001b[0m\u001b[1;33m.\u001b[0m\u001b[0munique\u001b[0m\u001b[1;33m(\u001b[0m\u001b[1;33m)\u001b[0m\u001b[1;33m\u001b[0m\u001b[0m\n\u001b[0;32m      9\u001b[0m         \u001b[1;32mfor\u001b[0m \u001b[0m_section\u001b[0m \u001b[1;32min\u001b[0m \u001b[0msections\u001b[0m\u001b[1;33m:\u001b[0m\u001b[1;33m\u001b[0m\u001b[0m\n\u001b[1;32m---> 10\u001b[1;33m             \u001b[0msearch_for_section\u001b[0m\u001b[1;33m(\u001b[0m\u001b[0mdriver\u001b[0m\u001b[1;33m,\u001b[0m \u001b[0mstr\u001b[0m\u001b[1;33m(\u001b[0m\u001b[0m_section\u001b[0m\u001b[1;33m)\u001b[0m\u001b[1;33m)\u001b[0m\u001b[1;33m\u001b[0m\u001b[0m\n\u001b[0m\u001b[0;32m     11\u001b[0m             \u001b[0menrollment_window\u001b[0m\u001b[1;33m(\u001b[0m\u001b[0mdriver\u001b[0m\u001b[1;33m)\u001b[0m\u001b[1;33m\u001b[0m\u001b[0m\n\u001b[0;32m     12\u001b[0m             \u001b[0msection_records\u001b[0m \u001b[1;33m=\u001b[0m \u001b[0mstaff_records\u001b[0m\u001b[1;33m[\u001b[0m\u001b[0mstaff_records\u001b[0m\u001b[1;33m[\u001b[0m\u001b[1;34m'Intervention Section Number'\u001b[0m\u001b[1;33m]\u001b[0m \u001b[1;33m==\u001b[0m \u001b[0m_section\u001b[0m\u001b[1;33m]\u001b[0m\u001b[1;33m\u001b[0m\u001b[0m\n",
      "\u001b[1;32m<ipython-input-31-911c537c18fa>\u001b[0m in \u001b[0;36msearch_for_section\u001b[1;34m(driver, sec_num)\u001b[0m\n\u001b[0;32m      3\u001b[0m     \u001b[0mdriver\u001b[0m\u001b[1;33m.\u001b[0m\u001b[0mfind_element_by_class_name\u001b[0m\u001b[1;33m(\u001b[0m\u001b[1;34m\"searchTextBox\"\u001b[0m\u001b[1;33m)\u001b[0m\u001b[1;33m.\u001b[0m\u001b[0msend_keys\u001b[0m\u001b[1;33m(\u001b[0m\u001b[0msec_num\u001b[0m\u001b[1;33m)\u001b[0m\u001b[1;33m\u001b[0m\u001b[0m\n\u001b[0;32m      4\u001b[0m     \u001b[0mdriver\u001b[0m\u001b[1;33m.\u001b[0m\u001b[0mfind_element_by_name\u001b[0m\u001b[1;33m(\u001b[0m\u001b[1;34m\"search\"\u001b[0m\u001b[1;33m)\u001b[0m\u001b[1;33m.\u001b[0m\u001b[0mclick\u001b[0m\u001b[1;33m(\u001b[0m\u001b[1;33m)\u001b[0m\u001b[1;33m\u001b[0m\u001b[0m\n\u001b[1;32m----> 5\u001b[1;33m     \u001b[0mWebDriverWait\u001b[0m\u001b[1;33m(\u001b[0m\u001b[0mdriver\u001b[0m\u001b[1;33m,\u001b[0m \u001b[1;36m10\u001b[0m\u001b[1;33m)\u001b[0m\u001b[1;33m.\u001b[0m\u001b[0muntil\u001b[0m\u001b[1;33m(\u001b[0m\u001b[0mEC\u001b[0m\u001b[1;33m.\u001b[0m\u001b[0mpresence_of_element_located\u001b[0m\u001b[1;33m(\u001b[0m\u001b[1;33m(\u001b[0m\u001b[0mBy\u001b[0m\u001b[1;33m.\u001b[0m\u001b[0mNAME\u001b[0m\u001b[1;33m,\u001b[0m \u001b[1;34m\"section_intervention_data\"\u001b[0m\u001b[1;33m)\u001b[0m\u001b[1;33m)\u001b[0m\u001b[1;33m)\u001b[0m\u001b[1;33m\u001b[0m\u001b[0m\n\u001b[0m\u001b[0;32m      6\u001b[0m     \u001b[0mdriver\u001b[0m\u001b[1;33m.\u001b[0m\u001b[0mfind_element_by_name\u001b[0m\u001b[1;33m(\u001b[0m\u001b[1;34m\"section_intervention_data\"\u001b[0m\u001b[1;33m)\u001b[0m\u001b[1;33m.\u001b[0m\u001b[0mclick\u001b[0m\u001b[1;33m(\u001b[0m\u001b[1;33m)\u001b[0m\u001b[1;33m\u001b[0m\u001b[0m\n\u001b[0;32m      7\u001b[0m \u001b[1;33m\u001b[0m\u001b[0m\n",
      "\u001b[1;32mC:\\Users\\aperusse\\AppData\\Local\\Continuum\\Anaconda3\\envs\\selenium\\lib\\site-packages\\selenium\\webdriver\\support\\wait.py\u001b[0m in \u001b[0;36muntil\u001b[1;34m(self, method, message)\u001b[0m\n\u001b[0;32m     78\u001b[0m             \u001b[1;32mif\u001b[0m \u001b[0mtime\u001b[0m\u001b[1;33m.\u001b[0m\u001b[0mtime\u001b[0m\u001b[1;33m(\u001b[0m\u001b[1;33m)\u001b[0m \u001b[1;33m>\u001b[0m \u001b[0mend_time\u001b[0m\u001b[1;33m:\u001b[0m\u001b[1;33m\u001b[0m\u001b[0m\n\u001b[0;32m     79\u001b[0m                 \u001b[1;32mbreak\u001b[0m\u001b[1;33m\u001b[0m\u001b[0m\n\u001b[1;32m---> 80\u001b[1;33m         \u001b[1;32mraise\u001b[0m \u001b[0mTimeoutException\u001b[0m\u001b[1;33m(\u001b[0m\u001b[0mmessage\u001b[0m\u001b[1;33m,\u001b[0m \u001b[0mscreen\u001b[0m\u001b[1;33m,\u001b[0m \u001b[0mstacktrace\u001b[0m\u001b[1;33m)\u001b[0m\u001b[1;33m\u001b[0m\u001b[0m\n\u001b[0m\u001b[0;32m     81\u001b[0m \u001b[1;33m\u001b[0m\u001b[0m\n\u001b[0;32m     82\u001b[0m     \u001b[1;32mdef\u001b[0m \u001b[0muntil_not\u001b[0m\u001b[1;33m(\u001b[0m\u001b[0mself\u001b[0m\u001b[1;33m,\u001b[0m \u001b[0mmethod\u001b[0m\u001b[1;33m,\u001b[0m \u001b[0mmessage\u001b[0m\u001b[1;33m=\u001b[0m\u001b[1;34m''\u001b[0m\u001b[1;33m)\u001b[0m\u001b[1;33m:\u001b[0m\u001b[1;33m\u001b[0m\u001b[0m\n",
      "\u001b[1;31mTimeoutException\u001b[0m: Message: \n"
     ]
    }
   ],
   "source": [
    "enrollment_script()"
   ]
  },
  {
   "cell_type": "code",
   "execution_count": null,
   "metadata": {},
   "outputs": [],
   "source": []
  }
 ],
 "metadata": {
  "kernelspec": {
   "display_name": "Python 3",
   "language": "python",
   "name": "python3"
  },
  "language_info": {
   "codemirror_mode": {
    "name": "ipython",
    "version": 3
   },
   "file_extension": ".py",
   "mimetype": "text/x-python",
   "name": "python",
   "nbconvert_exporter": "python",
   "pygments_lexer": "ipython3",
   "version": "3.6.1"
  }
 },
 "nbformat": 4,
 "nbformat_minor": 2
}
