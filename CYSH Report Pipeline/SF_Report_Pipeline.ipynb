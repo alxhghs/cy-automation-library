{
 "cells": [
  {
   "cell_type": "code",
   "execution_count": 29,
   "metadata": {
    "collapsed": false
   },
   "outputs": [],
   "source": [
    "from selenium import webdriver\n",
    "from selenium.webdriver.common.keys import Keys\n",
    "import time"
   ]
  },
  {
   "cell_type": "code",
   "execution_count": null,
   "metadata": {
    "collapsed": true
   },
   "outputs": [],
   "source": [
   ]
  },
  {
   "cell_type": "code",
   "execution_count": 34,
   "metadata": {
    "collapsed": false,
    "scrolled": true
   },
   "outputs": [
    {
     "name": "stdout",
     "output_type": "stream",
     "text": [
      "City Year - Sign In\n",
      "['{3c7e195d-a3a6-4c66-9ac9-4385a848c35d}', '{928e159e-9047-4c4d-a961-9f92cac95ffa}']\n"
     ]
    }
   ],
   "source": [
    "driver = webdriver.Firefox()\n",
    "driver.get(\"https://cityyear.okta.com/login/do-login\")\n",
    "\n",
    "print(driver.title)\n",
    "\n",
    "elem = driver.find_element_by_name(\"username\")\n",
    "elem.clear()\n",
    "elem.send_keys(username)\n",
    "\n",
    "elem = driver.find_element_by_name('password')\n",
    "elem.clear()\n",
    "elem.send_keys(password)\n",
    "\n",
    "elem.send_keys(Keys.RETURN)\n",
    "\n",
    "time.sleep(4)\n",
    "\n",
    "try:\n",
    "    elem = driver.find_element_by_xpath('//*[@id=\"container\"]/div/div[1]/div/div[2]/ul[2]/li[12]/a/img')\n",
    "    elem.click()\n",
    "except:\n",
    "    time.sleep(4)\n",
    "    elem = driver.find_element_by_xpath('//*[@id=\"container\"]/div/div[1]/div/div[2]/ul[2]/li[12]/a/img')\n",
    "    elem.click()\n",
    "\n",
    "print(driver.window_handles)"
   ]
  },
  {
   "cell_type": "code",
   "execution_count": null,
   "metadata": {
    "collapsed": true
   },
   "outputs": [],
   "source": []
  }
 ],
 "metadata": {
  "anaconda-cloud": {},
  "kernelspec": {
   "display_name": "Python [conda env:py35]",
   "language": "python",
   "name": "conda-env-py35-py"
  },
  "language_info": {
   "codemirror_mode": {
    "name": "ipython",
    "version": 3
   },
   "file_extension": ".py",
   "mimetype": "text/x-python",
   "name": "python",
   "nbconvert_exporter": "python",
   "pygments_lexer": "ipython3",
   "version": "3.5.2"
  }
 },
 "nbformat": 4,
 "nbformat_minor": 0
}
