{
 "cells": [
  {
   "cell_type": "code",
   "execution_count": 13,
   "metadata": {
    "collapsed": false
   },
   "outputs": [],
   "source": [
    "from selenium import webdriver\n",
    "from selenium.webdriver.common.keys import Keys\n",
    "import time\n",
    "import requests"
   ]
  },
  {
   "cell_type": "code",
   "execution_count": 20,
   "metadata": {
    "collapsed": true
   },
   "outputs": [],
   "source": [
    "username = ''\n",
    "password = ''\n",
    "report_keyword = \"00O360000069dlN\""
   ]
  },
  {
   "cell_type": "code",
   "execution_count": 21,
   "metadata": {
    "collapsed": false,
    "scrolled": true
   },
   "outputs": [],
   "source": [
    "fp = webdriver.FirefoxProfile()\n",
    "\n",
    "fp.set_preference(\"browser.download.folderList\",2)\n",
    "fp.set_preference(\"browser.download.manager.showWhenStarting\",False)\n",
    "fp.set_preference(\"browser.download.dir\",'~/GitHub/CYPY/CYSH Report Pipeline/')\n",
    "fp.set_preference(\"browser.helperApps.neverAsk.saveToDisk\",\"text/csv\")\n",
    "\n",
    "driver = webdriver.Firefox(firefox_profile=fp)\n",
    "driver.get(\"https://cityyear.okta.com/login/do-login\")\n",
    "\n",
    "#print(driver.title)\n",
    "\n",
    "elem = driver.find_element_by_name(\"username\")\n",
    "elem.clear()\n",
    "elem.send_keys(username)\n",
    "\n",
    "elem = driver.find_element_by_name('password')\n",
    "elem.clear()\n",
    "elem.send_keys(password)\n",
    "\n",
    "elem.send_keys(Keys.RETURN)\n",
    "\n",
    "time.sleep(4)\n",
    "\n",
    "try:\n",
    "    elem = driver.find_element_by_xpath('//*[@id=\"container\"]/div/div[1]/div/div[2]/ul[2]/li[12]/a/img')\n",
    "    elem.click()\n",
    "except:\n",
    "    time.sleep(4)\n",
    "    elem = driver.find_element_by_xpath('//*[@id=\"container\"]/div/div[1]/div/div[2]/ul[2]/li[12]/a/img')\n",
    "    elem.click()\n",
    "\n",
    "time.sleep(6)\n",
    "    \n",
    "for handle in driver.window_handles:\n",
    "    driver.switch_to_window(handle)\n",
    "    if driver.title == \"City Year - My Applications\": driver.close()\n",
    "\n",
    "#print(driver.title)\n",
    "\n",
    "driver.get(\"\".join([\"https://na30.salesforce.com/\",report_keyword,\"?export=1&enc=UTF-8&xf=csv\"]))"
   ]
  },
  {
   "cell_type": "code",
   "execution_count": null,
   "metadata": {
    "collapsed": true
   },
   "outputs": [],
   "source": []
  }
 ],
 "metadata": {
  "anaconda-cloud": {},
  "kernelspec": {
   "display_name": "Python 2",
   "language": "python",
   "name": "python2"
  },
  "language_info": {
   "codemirror_mode": {
    "name": "ipython",
    "version": 2
   },
   "file_extension": ".py",
   "mimetype": "text/x-python",
   "name": "python",
   "nbconvert_exporter": "python",
   "pygments_lexer": "ipython2",
   "version": "2.7.12"
  }
 },
 "nbformat": 4,
 "nbformat_minor": 0
}
